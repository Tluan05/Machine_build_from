{
 "cells": [
  {
   "cell_type": "code",
   "execution_count": 1,
   "id": "00897523",
   "metadata": {},
   "outputs": [],
   "source": [
    "import pandas as pd\n",
    "import matplotlib.pyplot as plt\n",
    "import numpy as np\n",
    "import seaborn as sns\n",
    "from sklearn.feature_extraction.text import CountVectorizer\n",
    "import re\n",
    "from collections import Counter\n",
    "import math"
   ]
  },
  {
   "cell_type": "markdown",
   "id": "74abcca5",
   "metadata": {},
   "source": [
    " # Đọc dữ liệu"
   ]
  },
  {
   "cell_type": "code",
   "execution_count": 2,
   "id": "986f9f2b",
   "metadata": {},
   "outputs": [
    {
     "data": {
      "text/html": [
       "<div>\n",
       "<style scoped>\n",
       "    .dataframe tbody tr th:only-of-type {\n",
       "        vertical-align: middle;\n",
       "    }\n",
       "\n",
       "    .dataframe tbody tr th {\n",
       "        vertical-align: top;\n",
       "    }\n",
       "\n",
       "    .dataframe thead th {\n",
       "        text-align: right;\n",
       "    }\n",
       "</style>\n",
       "<table border=\"1\" class=\"dataframe\">\n",
       "  <thead>\n",
       "    <tr style=\"text-align: right;\">\n",
       "      <th></th>\n",
       "      <th>label</th>\n",
       "      <th>text</th>\n",
       "    </tr>\n",
       "  </thead>\n",
       "  <tbody>\n",
       "    <tr>\n",
       "      <th>0</th>\n",
       "      <td>Ham</td>\n",
       "      <td>at http samba sernet de ma bzr samba escapenum...</td>\n",
       "    </tr>\n",
       "    <tr>\n",
       "      <th>1</th>\n",
       "      <td>Ham</td>\n",
       "      <td>following please find daily enrononline execut...</td>\n",
       "    </tr>\n",
       "    <tr>\n",
       "      <th>2</th>\n",
       "      <td>Ham</td>\n",
       "      <td>you have received this email because the reque...</td>\n",
       "    </tr>\n",
       "    <tr>\n",
       "      <th>3</th>\n",
       "      <td>Ham</td>\n",
       "      <td>i need phone numbers for customers invited to ...</td>\n",
       "    </tr>\n",
       "    <tr>\n",
       "      <th>4</th>\n",
       "      <td>Spam</td>\n",
       "      <td>hi i am tired this afternoon i am escapenumber...</td>\n",
       "    </tr>\n",
       "  </tbody>\n",
       "</table>\n",
       "</div>"
      ],
      "text/plain": [
       "  label                                               text\n",
       "0   Ham  at http samba sernet de ma bzr samba escapenum...\n",
       "1   Ham  following please find daily enrononline execut...\n",
       "2   Ham  you have received this email because the reque...\n",
       "3   Ham  i need phone numbers for customers invited to ...\n",
       "4  Spam  hi i am tired this afternoon i am escapenumber..."
      ]
     },
     "execution_count": 2,
     "metadata": {},
     "output_type": "execute_result"
    }
   ],
   "source": [
    "data = pd.read_csv(r\"D:\\Machine_build_from\\data\\spam_ham.csv\", encoding='latin-1')\n",
    "data.head()"
   ]
  },
  {
   "cell_type": "markdown",
   "id": "5c3bb18b",
   "metadata": {},
   "source": [
    "# thống kê mô tả"
   ]
  },
  {
   "cell_type": "code",
   "execution_count": 3,
   "id": "2ae6c079",
   "metadata": {},
   "outputs": [
    {
     "name": "stdout",
     "output_type": "stream",
     "text": [
      "(4070, 2)\n"
     ]
    }
   ],
   "source": [
    "print(data.shape)"
   ]
  },
  {
   "cell_type": "code",
   "execution_count": null,
   "id": "44af318f",
   "metadata": {},
   "outputs": [],
   "source": [
    "data.info() "
   ]
  },
  {
   "cell_type": "code",
   "execution_count": null,
   "id": "79dacaa0",
   "metadata": {},
   "outputs": [],
   "source": [
    "data.head() "
   ]
  },
  {
   "cell_type": "code",
   "execution_count": null,
   "id": "2559eb8f",
   "metadata": {},
   "outputs": [],
   "source": [
    "data.isnull().sum()"
   ]
  },
  {
   "cell_type": "markdown",
   "id": "24c887f6",
   "metadata": {},
   "source": [
    "# Phân tích đặc trưng"
   ]
  },
  {
   "cell_type": "code",
   "execution_count": null,
   "id": "d3120faa",
   "metadata": {},
   "outputs": [],
   "source": [
    "# thống kê nhãn + trực quan\n",
    "print(data['label'].value_counts(normalize=False))\n",
    "\n",
    "sns.countplot(x='label', data=data, palette='Set3')\n",
    "plt.title(\"số lượng Spam vs Ham\")\n",
    "plt.show()"
   ]
  },
  {
   "cell_type": "code",
   "execution_count": null,
   "id": "f190a4d3",
   "metadata": {},
   "outputs": [],
   "source": [
    "# tạo cột độ dài\n",
    "data['do_dai_text'] = data['text'].apply(len)"
   ]
  },
  {
   "cell_type": "code",
   "execution_count": null,
   "id": "8db1c819",
   "metadata": {},
   "outputs": [],
   "source": [
    "# mô tả text\n",
    "data.describe()"
   ]
  },
  {
   "cell_type": "code",
   "execution_count": null,
   "id": "ef471311",
   "metadata": {},
   "outputs": [],
   "source": [
    "# xem độ dài\n",
    "sns.histplot(data['do_dai_text'], bins=50, kde=True)\n",
    "plt.title(\"Phân phối độ dài văn bản\")\n",
    "plt.xlabel(\"Độ dài văn bản\")\n",
    "plt.ylabel(\"Số lượng email\")\n",
    "plt.show()"
   ]
  },
  {
   "cell_type": "code",
   "execution_count": null,
   "id": "2aa03759",
   "metadata": {},
   "outputs": [],
   "source": [
    "spam_keywords = [\n",
    "    \"!!!\",\"!!\",\"$$$\",\"$\",\"$$\" \"100% free\", \"all capitals\", \"all natural\", \"as seen on\", \"attention\",\n",
    "    \"bad credit\", \"bargain\", \"best price\", \"billion\", \"certified\", \"cost\", \"dear friend\",\n",
    "    \"decision\", \"discount\", \"double your income\", \"extra punctuation\", \"eliminate debt\",\n",
    "    \"extra income\", \"fast cash\", \"fees\", \"financial freedom\", \"free\", \"guarantee\",\n",
    "    \"hot\", \"increase\", \"join millions\", \"lose weight\", \"lowest price\", \"make money fast\",\n",
    "    \"marketing\", \"million dollars\", \"money\", \"money making\", \"no medical exams\",\n",
    "    \"no purchase necessary\", \"online pharmacy\", \"opportunity\", \"partners\",\n",
    "    \"performance\", \"rates\", \"satisfaction guaranteed\", \"search engine listings\",\n",
    "    \"selling\", \"success\", \"trial\", \"visit our website\",\n",
    "    \"#1\", \"4U\", \"50% off\", \"accept credit cards\", \"additional income\", \"affordable\",\n",
    "    \"all new\", \"apply now\", \"apply online\", \"be your own boss\", \"buy direct\", \"call free\",\n",
    "    \"cancel at anytime\", \"cash bonus\", \"cheap\", \"click here\", \"congratulations\",\n",
    "    \"direct email\", \"direct marketing\", \"don’t hesitate!\", \"drastically reduced\",\n",
    "    \"earn $\", \"full refund\", \"get it now\", \"gift certificate\", \"great offer\",\n",
    "    \"home based\", \"incredible deal\", \"information you requested\", \"insurance\",\n",
    "    \"investment\", \"limited time offer\", \"message contains\", \"no age restrictions\",\n",
    "    \"no experience\", \"no gimmicks\", \"no hidden costs\", \"no questions asked\", \"offer\",\n",
    "    \"online degree\", \"online marketing\", \"order now\", \"passwords\", \"please read\",\n",
    "    \"risk free\", \"save $\", \"serious cash\", \"special promotion\", \"urgent\", \"web traffic\"\n",
    "]\n",
    "# Danh sách ký tự đặc biệt \n",
    "special_chars = list(\"!@#$%^&*()-_=+[]{}|;:'\\\",.<>?/\")\n",
    "\n",
    "# xây dựng đặc trưng\n",
    "data['do_dai_text'] = data['text'].apply(len)  # số ký tự\n",
    "\n",
    "data['so_tu'] = data['text'].apply(lambda x: len(x.split()))  # số từ\n",
    "\n",
    "data['so_tu_in_hoa'] = data['text'].apply(lambda x: sum(1 for w in x.split() if w.isupper()))\n",
    "\n",
    "data['so_dau_cham_than'] = data['text'].apply(lambda x: x.count('!'))\n",
    "\n",
    "data['so_link'] = data['text'].apply(lambda x: sum(1 for w in x.split() if 'http' in w or 'www' in w))\n",
    "\n",
    "data['so_tu_dac_biet'] = data['text'].apply(lambda x: sum(1 for w in x.lower().split() if w in spam_keywords))\n",
    "\n",
    "data['so_ky_tu_dac_biet'] = data['text'].apply(lambda x: sum(1 for c in x if c in special_chars))\n",
    "\n",
    "# Tạo cột so_chu_so: đếm tất cả ký tự là số\n",
    "data['so_chu_so'] = data['text'].apply(lambda x: sum(1 for c in x if c.isdigit()))\n",
    "\n",
    "\n",
    "# Tỷ lệ chữ in hoa / tổng số ký tự\n",
    "data['ty_le_chu_in_hoa'] = data['so_tu_in_hoa'] / (data['do_dai_text'] + 1e-5)\n",
    "\n",
    "# Tỷ lệ ký tự đặc biệt / tổng số ký tự\n",
    "data['ty_le_ky_tu_dac_biet'] = data['so_ky_tu_dac_biet'] / (data['do_dai_text'] + 1e-5)\n",
    "\n",
    "# Độ dài trung bình của các từ trong văn bản\n",
    "data['do_dai_trung_binh_tu'] = data['text'].apply(\n",
    "    lambda x: np.mean([len(w) for w in x.split()]) if len(x.split()) > 0 else 0\n",
    ")\n",
    "\n",
    "# Số lượng từ duy nhất (không trùng lặp)\n",
    "data['so_tu_khac_nhau'] = data['text'].apply(\n",
    "    lambda x: len(set(x.split()))\n",
    ")\n",
    "\n",
    "# Số lượng từ dừng (các từ phổ biến ít mang nghĩa như: the, is, in, and, to, of)\n",
    "data['so_tu_dung'] = data['text'].apply(\n",
    "    lambda x: sum(1 for w in x.lower().split() if w in ['the', 'is', 'in', 'and', 'to', 'of'])\n",
    ")\n",
    "\n",
    "# Số lượng khoảng trắng (dấu cách) trong văn bản\n",
    "data['so_khoang_trang'] = data['text'].apply(\n",
    "    lambda x: x.count(' ')\n",
    ")\n"
   ]
  },
  {
   "cell_type": "code",
   "execution_count": null,
   "id": "b3942413",
   "metadata": {},
   "outputs": [],
   "source": [
    "features = [\n",
    "    'do_dai_text','so_tu','so_tu_in_hoa','so_dau_cham_than','so_link',\n",
    "    'so_tu_dac_biet','so_ky_tu_dac_biet','so_chu_so',\n",
    "    'ty_le_chu_in_hoa','ty_le_ky_tu_dac_biet',\n",
    "    'do_dai_trung_binh_tu','so_tu_khac_nhau','so_tu_dung','so_khoang_trang'\n",
    "]\n",
    "plt.figure(figsize=(18,12))\n",
    "\n",
    "cols = 3\n",
    "rows = math.ceil(len(features) / cols)\n",
    "\n",
    "plt.figure(figsize=(6*cols, 4*rows))\n",
    "\n",
    "for i, col in enumerate(features):\n",
    "    plt.subplot(rows, cols, i+1)\n",
    "    sns.boxplot(x='label', y=col, data=data, palette='Set2')\n",
    "    plt.title(col)\n",
    "    plt.tight_layout()\n",
    "\n",
    "plt.show()"
   ]
  },
  {
   "cell_type": "code",
   "execution_count": null,
   "id": "60294d3b",
   "metadata": {},
   "outputs": [],
   "source": [
    "mean_vals = data.groupby('label')[features].sum().reset_index()\n",
    "\n",
    "# Vẽ line plot xu hướng\n",
    "plt.figure(figsize=(8,6))\n",
    "for label in mean_vals['label']:\n",
    "    plt.plot(features, mean_vals[mean_vals['label']==label].iloc[0,1:], marker='o', label=label)\n",
    "\n",
    "plt.xticks(rotation=45)\n",
    "plt.ylabel('Giá trị trung bình')\n",
    "plt.title('Xu hướng các đặc trưng theo nhãn')\n",
    "plt.legend()\n",
    "plt.tight_layout()\n",
    "plt.show()"
   ]
  },
  {
   "cell_type": "markdown",
   "id": "4735bcee",
   "metadata": {},
   "source": [
    "các từ spam\n"
   ]
  },
  {
   "cell_type": "code",
   "execution_count": null,
   "id": "59c6bd55",
   "metadata": {},
   "outputs": [],
   "source": [
    "data[\"so_tu_spam_list\"] = data[\"text\"].apply(\n",
    "    lambda x: sum(1 for w in spam_keywords if w.lower() in x.lower())\n",
    ")"
   ]
  },
  {
   "cell_type": "code",
   "execution_count": null,
   "id": "b23504b3",
   "metadata": {},
   "outputs": [],
   "source": [
    "data[\"label_num\"] = data[\"label\"].map({\"Ham\": 0, \"Spam\": 1})\n",
    "plt.figure(figsize=(6,4))\n",
    "sns.boxplot(x=\"label\", y=\"so_tu_spam_list\", data=data, palette=\"Set2\")\n",
    "plt.title(\"Số từ khóa spam giữa 2 loại email Ham vs Spam\")\n",
    "plt.xlabel(\"Loại email\")\n",
    "plt.ylabel(\"Số từ khóa spam\")\n",
    "plt.show()"
   ]
  },
  {
   "cell_type": "code",
   "execution_count": null,
   "id": "967b99ff",
   "metadata": {},
   "outputs": [],
   "source": [
    "\n",
    "spam_word_counts = Counter()\n",
    "\n",
    "for text in data[\"text\"]:\n",
    "    text_lower = text.lower()\n",
    "    for w in spam_keywords:\n",
    "        if w.lower() in text_lower:\n",
    "            spam_word_counts[w.lower()] += 1\n",
    "\n",
    "spam_df = pd.DataFrame(spam_word_counts.items(), columns=[\"keyword\", \"count\"])\n",
    "spam_df = spam_df.sort_values(\"count\", ascending=False).head(30)\n",
    "\n",
    "plt.figure(figsize=(8,6))\n",
    "sns.barplot(y=\"keyword\", x=\"count\", data=spam_df, palette=\"Reds_r\")\n",
    "plt.title(\"Top 30 từ khóa spam phổ biến nhất trong tập dữ liệu\")\n",
    "plt.xlabel(\"Số lần xuất hiện\")\n",
    "plt.ylabel(\"Từ khóa spam\")\n",
    "plt.show()\n"
   ]
  },
  {
   "cell_type": "code",
   "execution_count": null,
   "id": "6dc96edc",
   "metadata": {},
   "outputs": [],
   "source": [
    "\n",
    "vectorizer = CountVectorizer(stop_words='english', max_features=9000)\n",
    "X = vectorizer.fit_transform(data['text'])\n",
    "\n",
    "# Tổng tần suất xuất hiện mỗi từ\n",
    "word_freq = X.toarray().sum(axis=0)\n",
    "freq_df = pd.DataFrame({'word': vectorizer.get_feature_names_out(), 'count': word_freq})\n",
    "freq_df = freq_df.sort_values('count', ascending=False).head(30)\n",
    "\n",
    "# Vẽ biểu đồ\n",
    "plt.figure(figsize=(10,8))\n",
    "sns.barplot(y='word', x='count', data=freq_df, palette='Blues_r')\n",
    "plt.title('Top 30 từ xuất hiện nhiều nhất trong tập dữ liệu')\n",
    "plt.xlabel('Số lần xuất hiện')\n",
    "plt.ylabel('Từ')\n",
    "plt.tight_layout()\n",
    "plt.show()"
   ]
  },
  {
   "cell_type": "code",
   "execution_count": null,
   "id": "88378713",
   "metadata": {},
   "outputs": [],
   "source": [
    "\n",
    "\n",
    "data_numeric = data[features].copy()\n",
    "# Ma trận tương quan\n",
    "corr = data_numeric.corr()"
   ]
  },
  {
   "cell_type": "code",
   "execution_count": null,
   "id": "91f03605",
   "metadata": {},
   "outputs": [],
   "source": [
    "plt.figure(figsize=(10,8))\n",
    "sns.heatmap(corr, annot=True, fmt=\".2f\", cmap='coolwarm', linewidths=0.5)\n",
    "plt.title(\"Biểu đồ nhiệt tương quan giữa các đặc trưng\")\n",
    "plt.show()"
   ]
  }
 ],
 "metadata": {
  "kernelspec": {
   "display_name": "Python 3",
   "language": "python",
   "name": "python3"
  },
  "language_info": {
   "codemirror_mode": {
    "name": "ipython",
    "version": 3
   },
   "file_extension": ".py",
   "mimetype": "text/x-python",
   "name": "python",
   "nbconvert_exporter": "python",
   "pygments_lexer": "ipython3",
   "version": "3.10.8"
  }
 },
 "nbformat": 4,
 "nbformat_minor": 5
}
